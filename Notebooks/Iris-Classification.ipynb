{
 "cells": [
  {
   "cell_type": "markdown",
   "id": "b1895cef-7e42-47ba-bc71-2745c77d2315",
   "metadata": {},
   "source": [
    "In this project we are going to classify whether a species of Iris flower is **Setosa**, **Virginica** or **Versicolour**. The dataset for this project is collected from [UCI Machine Learning Repository](https://archive.ics.uci.edu/ml/datasets/iris). There are 150 rows and 5 columns in this dataset, 4 columns are the feature columns and 1 column is the target column.\n",
    "\n",
    "The four numeric features columns are:\n",
    "1. sepal length in cm\n",
    "2. sepal width in cm\n",
    "3. petal length in cm\n",
    "4. petal width in cm \n",
    "\n",
    "and, 1 target column is:\n",
    "1. species\n",
    "    - Iris Setosa\n",
    "    - Iris Versicolour\n",
    "    - Iris Virginica\n",
    "\n"
   ]
  },
  {
   "cell_type": "markdown",
   "id": "34a67c7c-d884-45c5-9cf5-ad430901d82e",
   "metadata": {},
   "source": [
    "# Import libraries"
   ]
  },
  {
   "cell_type": "code",
   "execution_count": 28,
   "id": "14f0e6ee-f596-4d97-a2e9-5fc74a8aab11",
   "metadata": {},
   "outputs": [],
   "source": [
    "import pandas as pd\n",
    "from sklearn.pipeline import make_pipeline\n",
    "from sklearn.preprocessing import StandardScaler\n",
    "from sklearn.model_selection import train_test_split, RandomizedSearchCV\n",
    "from sklearn.tree import DecisionTreeClassifier\n",
    "from sklearn.ensemble import RandomForestClassifier, AdaBoostClassifier, GradientBoostingClassifier\n",
    "from sklearn.naive_bayes import GaussianNB\n",
    "from sklearn.linear_model import LogisticRegression, SGDClassifier\n",
    "from sklearn.neighbors import KNeighborsClassifier\n",
    "from sklearn.svm import SVC\n",
    "from sklearn.metrics import accuracy_score\n",
    "from scipy.stats import randint\n",
    "import matplotlib.pyplot as plt\n",
    "import seaborn as sb\n",
    "import pickle\n",
    "\n",
    "import warnings\n",
    "warnings.simplefilter(\"ignore\")"
   ]
  },
  {
   "cell_type": "code",
   "execution_count": 2,
   "id": "0d6b65e2-370e-413e-8340-7f892a29269f",
   "metadata": {},
   "outputs": [
    {
     "data": {
      "text/html": [
       "<div>\n",
       "<style scoped>\n",
       "    .dataframe tbody tr th:only-of-type {\n",
       "        vertical-align: middle;\n",
       "    }\n",
       "\n",
       "    .dataframe tbody tr th {\n",
       "        vertical-align: top;\n",
       "    }\n",
       "\n",
       "    .dataframe thead th {\n",
       "        text-align: right;\n",
       "    }\n",
       "</style>\n",
       "<table border=\"1\" class=\"dataframe\">\n",
       "  <thead>\n",
       "    <tr style=\"text-align: right;\">\n",
       "      <th></th>\n",
       "      <th>5.1</th>\n",
       "      <th>3.5</th>\n",
       "      <th>1.4</th>\n",
       "      <th>0.2</th>\n",
       "      <th>Iris-setosa</th>\n",
       "    </tr>\n",
       "  </thead>\n",
       "  <tbody>\n",
       "    <tr>\n",
       "      <th>0</th>\n",
       "      <td>4.9</td>\n",
       "      <td>3.0</td>\n",
       "      <td>1.4</td>\n",
       "      <td>0.2</td>\n",
       "      <td>Iris-setosa</td>\n",
       "    </tr>\n",
       "    <tr>\n",
       "      <th>1</th>\n",
       "      <td>4.7</td>\n",
       "      <td>3.2</td>\n",
       "      <td>1.3</td>\n",
       "      <td>0.2</td>\n",
       "      <td>Iris-setosa</td>\n",
       "    </tr>\n",
       "    <tr>\n",
       "      <th>2</th>\n",
       "      <td>4.6</td>\n",
       "      <td>3.1</td>\n",
       "      <td>1.5</td>\n",
       "      <td>0.2</td>\n",
       "      <td>Iris-setosa</td>\n",
       "    </tr>\n",
       "    <tr>\n",
       "      <th>3</th>\n",
       "      <td>5.0</td>\n",
       "      <td>3.6</td>\n",
       "      <td>1.4</td>\n",
       "      <td>0.2</td>\n",
       "      <td>Iris-setosa</td>\n",
       "    </tr>\n",
       "    <tr>\n",
       "      <th>4</th>\n",
       "      <td>5.4</td>\n",
       "      <td>3.9</td>\n",
       "      <td>1.7</td>\n",
       "      <td>0.4</td>\n",
       "      <td>Iris-setosa</td>\n",
       "    </tr>\n",
       "  </tbody>\n",
       "</table>\n",
       "</div>"
      ],
      "text/plain": [
       "   5.1  3.5  1.4  0.2  Iris-setosa\n",
       "0  4.9  3.0  1.4  0.2  Iris-setosa\n",
       "1  4.7  3.2  1.3  0.2  Iris-setosa\n",
       "2  4.6  3.1  1.5  0.2  Iris-setosa\n",
       "3  5.0  3.6  1.4  0.2  Iris-setosa\n",
       "4  5.4  3.9  1.7  0.4  Iris-setosa"
      ]
     },
     "execution_count": 2,
     "metadata": {},
     "output_type": "execute_result"
    }
   ],
   "source": [
    "data = pd.read_csv('../data/raw/iris.data')\n",
    "data.head()"
   ]
  },
  {
   "cell_type": "markdown",
   "id": "9bd5e989-f443-4e1a-960f-9b4379d82503",
   "metadata": {},
   "source": [
    "The dataset don't have any column names. So, we have to give these columns names. As, it is discussed above there are 4 feature columns **sepal-length, sepal-width, petal-length, petal-width** and 1 target column **species**."
   ]
  },
  {
   "cell_type": "code",
   "execution_count": 3,
   "id": "a598a904-b816-4be5-a0d5-5dfae59ebdf2",
   "metadata": {},
   "outputs": [
    {
     "data": {
      "text/html": [
       "<div>\n",
       "<style scoped>\n",
       "    .dataframe tbody tr th:only-of-type {\n",
       "        vertical-align: middle;\n",
       "    }\n",
       "\n",
       "    .dataframe tbody tr th {\n",
       "        vertical-align: top;\n",
       "    }\n",
       "\n",
       "    .dataframe thead th {\n",
       "        text-align: right;\n",
       "    }\n",
       "</style>\n",
       "<table border=\"1\" class=\"dataframe\">\n",
       "  <thead>\n",
       "    <tr style=\"text-align: right;\">\n",
       "      <th></th>\n",
       "      <th>sepal_length</th>\n",
       "      <th>sepal_width</th>\n",
       "      <th>petal_length</th>\n",
       "      <th>petal_width</th>\n",
       "      <th>species</th>\n",
       "    </tr>\n",
       "  </thead>\n",
       "  <tbody>\n",
       "    <tr>\n",
       "      <th>0</th>\n",
       "      <td>4.9</td>\n",
       "      <td>3.0</td>\n",
       "      <td>1.4</td>\n",
       "      <td>0.2</td>\n",
       "      <td>Iris-setosa</td>\n",
       "    </tr>\n",
       "    <tr>\n",
       "      <th>1</th>\n",
       "      <td>4.7</td>\n",
       "      <td>3.2</td>\n",
       "      <td>1.3</td>\n",
       "      <td>0.2</td>\n",
       "      <td>Iris-setosa</td>\n",
       "    </tr>\n",
       "    <tr>\n",
       "      <th>2</th>\n",
       "      <td>4.6</td>\n",
       "      <td>3.1</td>\n",
       "      <td>1.5</td>\n",
       "      <td>0.2</td>\n",
       "      <td>Iris-setosa</td>\n",
       "    </tr>\n",
       "    <tr>\n",
       "      <th>3</th>\n",
       "      <td>5.0</td>\n",
       "      <td>3.6</td>\n",
       "      <td>1.4</td>\n",
       "      <td>0.2</td>\n",
       "      <td>Iris-setosa</td>\n",
       "    </tr>\n",
       "    <tr>\n",
       "      <th>4</th>\n",
       "      <td>5.4</td>\n",
       "      <td>3.9</td>\n",
       "      <td>1.7</td>\n",
       "      <td>0.4</td>\n",
       "      <td>Iris-setosa</td>\n",
       "    </tr>\n",
       "  </tbody>\n",
       "</table>\n",
       "</div>"
      ],
      "text/plain": [
       "   sepal_length  sepal_width  petal_length  petal_width      species\n",
       "0           4.9          3.0           1.4          0.2  Iris-setosa\n",
       "1           4.7          3.2           1.3          0.2  Iris-setosa\n",
       "2           4.6          3.1           1.5          0.2  Iris-setosa\n",
       "3           5.0          3.6           1.4          0.2  Iris-setosa\n",
       "4           5.4          3.9           1.7          0.4  Iris-setosa"
      ]
     },
     "execution_count": 3,
     "metadata": {},
     "output_type": "execute_result"
    }
   ],
   "source": [
    "data.columns = ['sepal_length', 'sepal_width', 'petal_length', 'petal_width', 'species']\n",
    "data.head()"
   ]
  },
  {
   "cell_type": "code",
   "execution_count": 4,
   "id": "edc33ab9-70d7-49b8-956f-1c7fd75ecde2",
   "metadata": {},
   "outputs": [
    {
     "data": {
      "text/html": [
       "<div>\n",
       "<style scoped>\n",
       "    .dataframe tbody tr th:only-of-type {\n",
       "        vertical-align: middle;\n",
       "    }\n",
       "\n",
       "    .dataframe tbody tr th {\n",
       "        vertical-align: top;\n",
       "    }\n",
       "\n",
       "    .dataframe thead th {\n",
       "        text-align: right;\n",
       "    }\n",
       "</style>\n",
       "<table border=\"1\" class=\"dataframe\">\n",
       "  <thead>\n",
       "    <tr style=\"text-align: right;\">\n",
       "      <th></th>\n",
       "      <th>sepal_length</th>\n",
       "      <th>sepal_width</th>\n",
       "      <th>petal_length</th>\n",
       "      <th>petal_width</th>\n",
       "    </tr>\n",
       "  </thead>\n",
       "  <tbody>\n",
       "    <tr>\n",
       "      <th>count</th>\n",
       "      <td>149.000000</td>\n",
       "      <td>149.000000</td>\n",
       "      <td>149.000000</td>\n",
       "      <td>149.000000</td>\n",
       "    </tr>\n",
       "    <tr>\n",
       "      <th>mean</th>\n",
       "      <td>5.848322</td>\n",
       "      <td>3.051007</td>\n",
       "      <td>3.774497</td>\n",
       "      <td>1.205369</td>\n",
       "    </tr>\n",
       "    <tr>\n",
       "      <th>std</th>\n",
       "      <td>0.828594</td>\n",
       "      <td>0.433499</td>\n",
       "      <td>1.759651</td>\n",
       "      <td>0.761292</td>\n",
       "    </tr>\n",
       "    <tr>\n",
       "      <th>min</th>\n",
       "      <td>4.300000</td>\n",
       "      <td>2.000000</td>\n",
       "      <td>1.000000</td>\n",
       "      <td>0.100000</td>\n",
       "    </tr>\n",
       "    <tr>\n",
       "      <th>25%</th>\n",
       "      <td>5.100000</td>\n",
       "      <td>2.800000</td>\n",
       "      <td>1.600000</td>\n",
       "      <td>0.300000</td>\n",
       "    </tr>\n",
       "    <tr>\n",
       "      <th>50%</th>\n",
       "      <td>5.800000</td>\n",
       "      <td>3.000000</td>\n",
       "      <td>4.400000</td>\n",
       "      <td>1.300000</td>\n",
       "    </tr>\n",
       "    <tr>\n",
       "      <th>75%</th>\n",
       "      <td>6.400000</td>\n",
       "      <td>3.300000</td>\n",
       "      <td>5.100000</td>\n",
       "      <td>1.800000</td>\n",
       "    </tr>\n",
       "    <tr>\n",
       "      <th>max</th>\n",
       "      <td>7.900000</td>\n",
       "      <td>4.400000</td>\n",
       "      <td>6.900000</td>\n",
       "      <td>2.500000</td>\n",
       "    </tr>\n",
       "  </tbody>\n",
       "</table>\n",
       "</div>"
      ],
      "text/plain": [
       "       sepal_length  sepal_width  petal_length  petal_width\n",
       "count    149.000000   149.000000    149.000000   149.000000\n",
       "mean       5.848322     3.051007      3.774497     1.205369\n",
       "std        0.828594     0.433499      1.759651     0.761292\n",
       "min        4.300000     2.000000      1.000000     0.100000\n",
       "25%        5.100000     2.800000      1.600000     0.300000\n",
       "50%        5.800000     3.000000      4.400000     1.300000\n",
       "75%        6.400000     3.300000      5.100000     1.800000\n",
       "max        7.900000     4.400000      6.900000     2.500000"
      ]
     },
     "execution_count": 4,
     "metadata": {},
     "output_type": "execute_result"
    }
   ],
   "source": [
    "data.describe()"
   ]
  },
  {
   "cell_type": "code",
   "execution_count": 5,
   "id": "8a86ffb3-8107-4b23-9916-92e48bb72f83",
   "metadata": {},
   "outputs": [
    {
     "name": "stdout",
     "output_type": "stream",
     "text": [
      "<class 'pandas.core.frame.DataFrame'>\n",
      "RangeIndex: 149 entries, 0 to 148\n",
      "Data columns (total 5 columns):\n",
      " #   Column        Non-Null Count  Dtype  \n",
      "---  ------        --------------  -----  \n",
      " 0   sepal_length  149 non-null    float64\n",
      " 1   sepal_width   149 non-null    float64\n",
      " 2   petal_length  149 non-null    float64\n",
      " 3   petal_width   149 non-null    float64\n",
      " 4   species       149 non-null    object \n",
      "dtypes: float64(4), object(1)\n",
      "memory usage: 5.9+ KB\n"
     ]
    }
   ],
   "source": [
    "data.info()"
   ]
  },
  {
   "cell_type": "markdown",
   "id": "ac2db22c-941d-4219-b843-3ee225d4a543",
   "metadata": {},
   "source": [
    "# Data Preparation"
   ]
  },
  {
   "cell_type": "markdown",
   "id": "1a4f2406-a741-4321-a136-16af0b99f167",
   "metadata": {},
   "source": [
    "Check if there is any null value in the data"
   ]
  },
  {
   "cell_type": "code",
   "execution_count": 6,
   "id": "74671b20-3db7-4182-a59c-be7115085876",
   "metadata": {},
   "outputs": [
    {
     "data": {
      "text/plain": [
       "0.0"
      ]
     },
     "execution_count": 6,
     "metadata": {},
     "output_type": "execute_result"
    }
   ],
   "source": [
    "data.isnull().any().mean()"
   ]
  },
  {
   "cell_type": "markdown",
   "id": "7ec94084-90ae-4c46-afd2-61e1c8dfb6de",
   "metadata": {},
   "source": [
    "There isn't any null values in the data.\n",
    "Now let's check data types of these values."
   ]
  },
  {
   "cell_type": "code",
   "execution_count": 7,
   "id": "b43cd535-b2ad-4e46-97fe-f344034d2c69",
   "metadata": {},
   "outputs": [
    {
     "data": {
      "text/plain": [
       "sepal_length    float64\n",
       "sepal_width     float64\n",
       "petal_length    float64\n",
       "petal_width     float64\n",
       "species          object\n",
       "dtype: object"
      ]
     },
     "execution_count": 7,
     "metadata": {},
     "output_type": "execute_result"
    }
   ],
   "source": [
    "data.dtypes"
   ]
  },
  {
   "cell_type": "markdown",
   "id": "f952b532-7f9c-4a28-8b82-6a7e5d2f485e",
   "metadata": {},
   "source": [
    "All the four feature columns are of **float** type but the target column is of **object** type. So, we have to convert the object type to either int or category type."
   ]
  },
  {
   "cell_type": "markdown",
   "id": "50e2467e-93fe-4aa2-b344-32442bc8544a",
   "metadata": {},
   "source": [
    "Let's change the data types of species column to **category** type"
   ]
  },
  {
   "cell_type": "code",
   "execution_count": 8,
   "id": "27261648-8ccf-4d19-8fcf-b749abe48397",
   "metadata": {},
   "outputs": [],
   "source": [
    "data['species'] = data['species'].astype('category')"
   ]
  },
  {
   "cell_type": "code",
   "execution_count": 9,
   "id": "57d8db2d-84a7-4f07-b5b1-3f62f9bb9c5e",
   "metadata": {},
   "outputs": [
    {
     "data": {
      "text/plain": [
       "sepal_length     float64\n",
       "sepal_width      float64\n",
       "petal_length     float64\n",
       "petal_width      float64\n",
       "species         category\n",
       "dtype: object"
      ]
     },
     "execution_count": 9,
     "metadata": {},
     "output_type": "execute_result"
    }
   ],
   "source": [
    "data.dtypes"
   ]
  },
  {
   "cell_type": "markdown",
   "id": "ff5637e2-85ad-4255-8333-de5fc272607e",
   "metadata": {},
   "source": [
    "Split data into features **X** and ckass **y**"
   ]
  },
  {
   "cell_type": "code",
   "execution_count": 10,
   "id": "26f251bf-9299-47f9-83f0-27ab93583696",
   "metadata": {},
   "outputs": [],
   "source": [
    "X = data.drop('species', axis=1)\n",
    "y = data['species']"
   ]
  },
  {
   "cell_type": "code",
   "execution_count": 11,
   "id": "eed6d73f-f29c-45f5-86b4-a13ab1078dd7",
   "metadata": {},
   "outputs": [
    {
     "data": {
      "text/html": [
       "<div>\n",
       "<style scoped>\n",
       "    .dataframe tbody tr th:only-of-type {\n",
       "        vertical-align: middle;\n",
       "    }\n",
       "\n",
       "    .dataframe tbody tr th {\n",
       "        vertical-align: top;\n",
       "    }\n",
       "\n",
       "    .dataframe thead th {\n",
       "        text-align: right;\n",
       "    }\n",
       "</style>\n",
       "<table border=\"1\" class=\"dataframe\">\n",
       "  <thead>\n",
       "    <tr style=\"text-align: right;\">\n",
       "      <th></th>\n",
       "      <th>sepal_length</th>\n",
       "      <th>sepal_width</th>\n",
       "      <th>petal_length</th>\n",
       "      <th>petal_width</th>\n",
       "    </tr>\n",
       "  </thead>\n",
       "  <tbody>\n",
       "    <tr>\n",
       "      <th>0</th>\n",
       "      <td>4.9</td>\n",
       "      <td>3.0</td>\n",
       "      <td>1.4</td>\n",
       "      <td>0.2</td>\n",
       "    </tr>\n",
       "    <tr>\n",
       "      <th>1</th>\n",
       "      <td>4.7</td>\n",
       "      <td>3.2</td>\n",
       "      <td>1.3</td>\n",
       "      <td>0.2</td>\n",
       "    </tr>\n",
       "    <tr>\n",
       "      <th>2</th>\n",
       "      <td>4.6</td>\n",
       "      <td>3.1</td>\n",
       "      <td>1.5</td>\n",
       "      <td>0.2</td>\n",
       "    </tr>\n",
       "    <tr>\n",
       "      <th>3</th>\n",
       "      <td>5.0</td>\n",
       "      <td>3.6</td>\n",
       "      <td>1.4</td>\n",
       "      <td>0.2</td>\n",
       "    </tr>\n",
       "    <tr>\n",
       "      <th>4</th>\n",
       "      <td>5.4</td>\n",
       "      <td>3.9</td>\n",
       "      <td>1.7</td>\n",
       "      <td>0.4</td>\n",
       "    </tr>\n",
       "  </tbody>\n",
       "</table>\n",
       "</div>"
      ],
      "text/plain": [
       "   sepal_length  sepal_width  petal_length  petal_width\n",
       "0           4.9          3.0           1.4          0.2\n",
       "1           4.7          3.2           1.3          0.2\n",
       "2           4.6          3.1           1.5          0.2\n",
       "3           5.0          3.6           1.4          0.2\n",
       "4           5.4          3.9           1.7          0.4"
      ]
     },
     "execution_count": 11,
     "metadata": {},
     "output_type": "execute_result"
    }
   ],
   "source": [
    "X.head()"
   ]
  },
  {
   "cell_type": "code",
   "execution_count": 12,
   "id": "d0c3e032-2602-49d0-b586-2f64e8b02960",
   "metadata": {},
   "outputs": [
    {
     "data": {
      "text/plain": [
       "0    Iris-setosa\n",
       "1    Iris-setosa\n",
       "2    Iris-setosa\n",
       "3    Iris-setosa\n",
       "4    Iris-setosa\n",
       "Name: species, dtype: category\n",
       "Categories (3, object): ['Iris-setosa', 'Iris-versicolor', 'Iris-virginica']"
      ]
     },
     "execution_count": 12,
     "metadata": {},
     "output_type": "execute_result"
    }
   ],
   "source": [
    "y.head()"
   ]
  },
  {
   "cell_type": "markdown",
   "id": "db918fc5-50ae-4d52-90c6-b5f2a191072c",
   "metadata": {},
   "source": [
    "### Split data into training, testing data and validation data"
   ]
  },
  {
   "cell_type": "code",
   "execution_count": 13,
   "id": "43d88e17-0afd-43ae-b2a5-2d1f4a69266f",
   "metadata": {},
   "outputs": [],
   "source": [
    "X_train, X_test, y_train, y_test = train_test_split(X, y, test_size=0.4, random_state=42)\n",
    "X_val, X_test, y_val, y_test = train_test_split(X_test, y_test, test_size=0.2, random_state=1)"
   ]
  },
  {
   "cell_type": "markdown",
   "id": "7fdf8574-425b-4acf-8b64-6d38f789e5f0",
   "metadata": {},
   "source": [
    "# Modeling"
   ]
  },
  {
   "cell_type": "markdown",
   "id": "222391a4-3bd0-412f-9a18-1584b0ad5eba",
   "metadata": {},
   "source": [
    "Initialize the model"
   ]
  },
  {
   "cell_type": "code",
   "execution_count": 14,
   "id": "148d6a07-a22a-4e73-8197-2f0d8fc24e6e",
   "metadata": {},
   "outputs": [],
   "source": [
    "dt_clf = DecisionTreeClassifier()\n",
    "rf_clf = RandomForestClassifier()\n",
    "ab_clf = AdaBoostClassifier()\n",
    "gb_clf = GradientBoostingClassifier()\n",
    "nb_clf = GaussianNB()\n",
    "lr_clf = LogisticRegression()\n",
    "sgd_clf = SGDClassifier()\n",
    "knn_clf = KNeighborsClassifier()\n",
    "svc_clf = SVC()"
   ]
  },
  {
   "cell_type": "markdown",
   "id": "66a454ba-0129-417e-b5fe-3a189d38cb2e",
   "metadata": {},
   "source": [
    "A function to train the model, predict the outcomes of the test set and then calculate the accuracy score"
   ]
  },
  {
   "cell_type": "code",
   "execution_count": 15,
   "id": "f6a392aa-aa95-480b-a597-8df6addf1476",
   "metadata": {},
   "outputs": [],
   "source": [
    "def train_predict(model):\n",
    "    \"\"\"\n",
    "    INPUT: model\n",
    "    FUNCTION: Train the model with the training data, predict the outcomes of the test data and calculate the accuracy score\n",
    "    OUTPUT: accuracy score\n",
    "    \"\"\"\n",
    "    model.fit(X_train, y_train)\n",
    "    pred = model.predict(X_val)\n",
    "    score = accuracy_score(y_val, pred)\n",
    "    return score"
   ]
  },
  {
   "cell_type": "markdown",
   "id": "1c08d24f-5aff-43ad-9fe4-bc7c5b965473",
   "metadata": {},
   "source": [
    "The above function is used to train and test the model"
   ]
  },
  {
   "cell_type": "code",
   "execution_count": 16,
   "id": "130bfa9b-7171-466f-8884-dbae3b8ce82c",
   "metadata": {},
   "outputs": [
    {
     "data": {
      "text/plain": [
       "{'DecisionTreeClassifier': 0.9166666666666666,\n",
       " 'RandomForestClassifier': 0.9375,\n",
       " 'AdaBoostClassifier': 0.9375,\n",
       " 'GradientBoostingClassifier': 0.9375,\n",
       " 'GaussianNB': 0.8958333333333334,\n",
       " 'LogisticRegression': 0.9166666666666666,\n",
       " 'SGDClassifier': 0.9375,\n",
       " 'KNeighborsClassifier': 0.9166666666666666,\n",
       " 'SVC': 0.9375}"
      ]
     },
     "execution_count": 16,
     "metadata": {},
     "output_type": "execute_result"
    }
   ],
   "source": [
    "models = [dt_clf, rf_clf, ab_clf, gb_clf, nb_clf, lr_clf, sgd_clf, knn_clf, svc_clf]\n",
    "scores = {}\n",
    "\n",
    "for model in models:\n",
    "    pipe = make_pipeline(\n",
    "        StandardScaler(),\n",
    "        model\n",
    "    )\n",
    "    score = train_predict(pipe)\n",
    "    scores[model.__class__.__name__] = score\n",
    "scores"
   ]
  },
  {
   "cell_type": "markdown",
   "id": "809e05a7-6d09-448d-a608-30dfa02f1797",
   "metadata": {},
   "source": [
    "#### Plot the accuracy scores"
   ]
  },
  {
   "cell_type": "code",
   "execution_count": 17,
   "id": "c7566062-746f-4a81-84f1-8db075dc23bd",
   "metadata": {},
   "outputs": [],
   "source": [
    "def plot_scores(scores, fig=(19, 10)):\n",
    "    fig = plt.figure(figsize=fig)\n",
    "    base_color = sb.color_palette()[0]\n",
    "    name = [key for key in scores.keys()]\n",
    "    scor = [val for val in scores.values()]\n",
    "    plots = sb.barplot(x=name, y=scor, color=base_color)\n",
    "    for p in plots.patches:\n",
    "        plots.annotate(format(p.get_height(), '.2f'),\n",
    "                       (p.get_x() + p.get_width() / 2., p.get_height()), \n",
    "                       ha = 'center', va = 'center', \n",
    "                       size=15,\n",
    "                       xytext = (0, -12), \n",
    "                       textcoords = 'offset points')\n",
    "    plt.xlabel('Names of the Classifiers', size=18)\n",
    "    plt.savefig('fig');"
   ]
  },
  {
   "cell_type": "code",
   "execution_count": 18,
   "id": "ddd0a58b-4b09-40b4-b34d-da3ccc2cdb1a",
   "metadata": {},
   "outputs": [
    {
     "data": {
      "image/png": "[encoded data removed]",
      "text/plain": [
       "<Figure size 1368x720 with 1 Axes>"
      ]
     },
     "metadata": {
      "needs_background": "light"
     },
     "output_type": "display_data"
    }
   ],
   "source": [
    "plot_scores(scores)"
   ]
  },
  {
   "cell_type": "markdown",
   "id": "2df696af-9f48-45f8-8662-af40d2a8f6b3",
   "metadata": {},
   "source": [
    "Models with the higher accuracy are:\n",
    "- AdaBoostClassifier\n",
    "- GradientBoostingClassifier\n",
    "- SVC\n",
    "\n",
    "So, let's optimise these classifiers to increase the accuracy"
   ]
  },
  {
   "cell_type": "markdown",
   "id": "d419c983-9925-4f6d-9807-875d23ae35b5",
   "metadata": {},
   "source": [
    "#### Set the parameters for RandomizedSearchCV"
   ]
  },
  {
   "cell_type": "code",
   "execution_count": 19,
   "id": "ad39477b-a8a8-4d0e-ba53-a6942f196e2f",
   "metadata": {},
   "outputs": [],
   "source": [
    "ab_param_distribution = {\n",
    "                        'n_estimators': randint(50, 500),\n",
    "                        'learning_rate': [1.0, 2.5, 3.8, 4.2],\n",
    "                        'random_state': randint(1, 50)\n",
    "                         }\n",
    "\n",
    "gb_param_distribution = {\n",
    "                            'learning_rate': [0.5, 1.0, 1.5, 2.0],\n",
    "                            'n_estimators': randint(150, 500),\n",
    "                            'criterion': ['friedman_mse', 'squared_error', 'mse', 'mae']\n",
    "                        }\n",
    "\n",
    "svc_param_distribution = {\n",
    "                            'C': [1.5, 2.5, 3.0, 4.0],\n",
    "                            'kernel': ['linear', 'poly', 'rbf', 'sigmoid'],\n",
    "                            'degree': randint(3, 10),\n",
    "                            'random_state': randint(1, 50)\n",
    "    \n",
    "                            }"
   ]
  },
  {
   "cell_type": "markdown",
   "id": "ef612130-0116-4966-93e3-859ba3d15793",
   "metadata": {},
   "source": [
    "Create a function and initialized the RandomizedSearchCV to search across the different parameters for the best parameters"
   ]
  },
  {
   "cell_type": "code",
   "execution_count": 20,
   "id": "e0f0ea72-52d6-493d-811a-fde7301f0408",
   "metadata": {},
   "outputs": [],
   "source": [
    "def searchCV(model, params):\n",
    "    \"\"\"\n",
    "    INPUT: model, parameters distribution\n",
    "    FUNCTION: Search for the best parameters and use it with model to train and to get best results\n",
    "    OUTPUT: accuracy score, best parameters for the model\n",
    "    \"\"\"\n",
    "    search = RandomizedSearchCV(estimator=model,\n",
    "                        n_iter=5,\n",
    "                        param_distributions=params,\n",
    "                        random_state=0)\n",
    "    search.fit(X_train, y_train)\n",
    "    score = search.score(X_test, y_test)\n",
    "    return score, search.best_params_"
   ]
  },
  {
   "cell_type": "markdown",
   "id": "0a02a1fb-7cc5-49fb-b579-625638a2a9cf",
   "metadata": {},
   "source": [
    "Let's give our best three models to the above function to check the scores"
   ]
  },
  {
   "cell_type": "code",
   "execution_count": 21,
   "id": "f227faf0-3db9-404e-bd41-375d2f979745",
   "metadata": {},
   "outputs": [],
   "source": [
    "new_scores = {}\n",
    "best_params = {}\n",
    "models = {ab_clf: ab_param_distribution, gb_clf: gb_param_distribution, svc_clf: svc_param_distribution}\n",
    "for model, params in models.items():\n",
    "    score, best_param = searchCV(model, params)\n",
    "    new_scores[model.__class__.__name__] = score\n",
    "    best_params[model.__class__.__name__] = best_param"
   ]
  },
  {
   "cell_type": "markdown",
   "id": "fe869fe8-bff9-4bdd-b9c3-eb0eee2fff3b",
   "metadata": {},
   "source": [
    "Print the scores and the best parameters"
   ]
  },
  {
   "cell_type": "code",
   "execution_count": 22,
   "id": "1073880b-9a37-4211-848d-3c2509d9f098",
   "metadata": {},
   "outputs": [
    {
     "data": {
      "image/png": "[encoded data removed]",
      "text/plain": [
       "<Figure size 864x432 with 1 Axes>"
      ]
     },
     "metadata": {
      "needs_background": "light"
     },
     "output_type": "display_data"
    }
   ],
   "source": [
    "plot_scores(new_scores, fig=(12, 6))"
   ]
  },
  {
   "cell_type": "markdown",
   "id": "8682ab1a-fed2-4591-b35b-1bef00343c34",
   "metadata": {},
   "source": [
    "After optimising the models we get the 100% accuracy in the validation set by the **AdaBoostClassifier** and **GradientBoostingClassifier**"
   ]
  },
  {
   "cell_type": "markdown",
   "id": "0a38d058-0833-449e-b8c0-6ecc9bfc88a8",
   "metadata": {},
   "source": [
    "# Model Evaluation"
   ]
  },
  {
   "cell_type": "markdown",
   "id": "4b7f484d-3228-41f9-9c23-036c57f68588",
   "metadata": {},
   "source": [
    "Initialize our best candidate which is AdaBoostClassifier"
   ]
  },
  {
   "cell_type": "code",
   "execution_count": 24,
   "id": "92b10b55-54b3-4184-af3e-61776088f1ab",
   "metadata": {},
   "outputs": [],
   "source": [
    "clf = AdaBoostClassifier(learning_rate=1.0, n_estimators=97, random_state=1)"
   ]
  },
  {
   "cell_type": "markdown",
   "id": "0210f2df-7b58-43f3-beb0-a364e0e93088",
   "metadata": {},
   "source": [
    "Function for pipeline, fit the train data, make prediction on the test data and returns accuracy score"
   ]
  },
  {
   "cell_type": "code",
   "execution_count": 25,
   "id": "1dff7764",
   "metadata": {},
   "outputs": [],
   "source": [
    "def pipeline_fit_predict(model):\n",
    "    model.fit(X_train, y_train)\n",
    "    pred = model.predict(X_test)\n",
    "    score = accuracy_score(y_test, pred)\n",
    "    return score"
   ]
  },
  {
   "cell_type": "code",
   "execution_count": 26,
   "id": "931a8588",
   "metadata": {},
   "outputs": [
    {
     "data": {
      "text/plain": [
       "1.0"
      ]
     },
     "execution_count": 26,
     "metadata": {},
     "output_type": "execute_result"
    }
   ],
   "source": [
    "score = pipeline_fit_predict(clf)\n",
    "score"
   ]
  },
  {
   "cell_type": "markdown",
   "id": "7beadeba-62d3-4c37-9d32-8d75c930de2d",
   "metadata": {},
   "source": [
    "After performing optimisations techniques on the model we get the 100% accuracy score on the test set"
   ]
  },
  {
   "cell_type": "markdown",
   "id": "efac92e9-72b0-40c3-a756-6ed956778e34",
   "metadata": {},
   "source": [
    "# Save Model"
   ]
  },
  {
   "cell_type": "code",
   "execution_count": 29,
   "id": "5b1fbb76",
   "metadata": {},
   "outputs": [],
   "source": [
    "model_name = 'iris_classification.model'\n",
    "pickle.dump(clf, open(f\"../Models/{model_name}\", 'wb'))"
   ]
  },
  {
   "cell_type": "code",
   "execution_count": null,
   "id": "4de3c1f9",
   "metadata": {},
   "outputs": [],
   "source": []
  }
 ],
 "metadata": {
  "kernelspec": {
   "display_name": "Python 3 (ipykernel)",
   "language": "python",
   "name": "python3"
  },
  "language_info": {
   "codemirror_mode": {
    "name": "ipython",
    "version": 3
   },
   "file_extension": ".py",
   "mimetype": "text/x-python",
   "name": "python",
   "nbconvert_exporter": "python",
   "pygments_lexer": "ipython3",
   "version": "3.9.7"
  }
 },
 "nbformat": 4,
 "nbformat_minor": 5
}
